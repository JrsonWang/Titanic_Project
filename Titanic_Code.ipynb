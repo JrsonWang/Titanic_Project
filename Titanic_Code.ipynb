{
 "cells": [
  {
   "cell_type": "markdown",
   "metadata": {},
   "source": [
    "# Titanic乘客生存情况分析预测"
   ]
  },
  {
   "cell_type": "markdown",
   "metadata": {},
   "source": [
    "## 项目背景"
   ]
  },
  {
   "cell_type": "markdown",
   "metadata": {},
   "source": [
    "Titanic生存预测大概是kaggle上最受欢迎的项目了，有9000多支队伍参加，多年来诞生了无数关于该比赛的经验分享。Titanic海难被认为是20世纪人间十大灾难之一，以此为背景的电影Titanic也称得上电影史上最伟大电影之一，里面的情景给观影人留下了深刻的印象。本次项目准备简要分析一下Titanic获救成员信息并且利用机器学习建模进行乘客生存预测。"
   ]
  },
  {
   "cell_type": "markdown",
   "metadata": {},
   "source": [
    "## 项目简介 "
   ]
  },
  {
   "cell_type": "markdown",
   "metadata": {},
   "source": [
    "本项目主要分析Titanic乘员生还率和各因素（客舱等级、乘客性别、年龄、登船港口等）之间的关系，得出**各因素对乘客生存率的影响及利用机器学习建模预测乘客生存情况**。"
   ]
  },
  {
   "cell_type": "markdown",
   "metadata": {},
   "source": [
    "## 数据源及数据概况"
   ]
  },
  {
   "cell_type": "markdown",
   "metadata": {},
   "source": [
    "本次项目中，数据是从Kaggle网站上获取的CSV格式数据，数据本身相对完整，不需要再进行数据采集。\n",
    "\n",
    "数据的关键信息如下：\n",
    "\n",
    "| 内容    | 字段        |\n",
    "|:---------- |:------     |\n",
    "|PassengerId|乘客序号|\n",
    "|Survived|最终是否存活（1/0表示存活/未存活）|\n",
    "|Pclass|船舱等级（1/2/3等舱位|\n",
    "|Name|乘客姓名|\n",
    "|Sex|性别|\n",
    "|Age|年龄|\n",
    "|SibSp|堂兄弟/妹个数 |\n",
    "|Parch|父母与小孩个数 |\n",
    "|Ticket|船票信息 |\n",
    "|Fare|票价 |\n",
    "|Cabin|客舱编号  |\n",
    "|Embarked|登船码头（S,C,Q）  |\n"
   ]
  },
  {
   "cell_type": "markdown",
   "metadata": {},
   "source": [
    "## 分析目的 "
   ]
  },
  {
   "cell_type": "markdown",
   "metadata": {},
   "source": [
    "本次项目主要从以下几个问题展开：\n",
    "\n",
    "1. Titanic电影中一句台词：\"让女人先走\"感动了无数人，而真实事件中，是否如电影剧情那样女性有更多生还机会?男人和女人的获救情况分别是怎样的？\n",
    "2. 船上乘客年龄分布是怎么样的？哪些年龄段的乘客获救概率比较高？\n",
    "3. 不同船舱等级的乘客分布情况如何？富人和穷人生还的几率会有怎样的差别呢？\n",
    "4. 不同港口登船是否会对乘客的生存情况产生影响？\n",
    "5. 票价对乘客生存情况的影响是怎么样的？\n",
    "6. 客舱编号信息的有无是否会对乘客生存情况带来影响？\n",
    "7. 旅行过程中经常有亲属陪伴，那么亲属数量对获救几率有哪些影响？\n",
    "8. 利用机器学习算法对乘客信息进行建模来预测乘客的生存情况\n",
    "\n"
   ]
  },
  {
   "cell_type": "markdown",
   "metadata": {},
   "source": [
    "## 数据探索"
   ]
  },
  {
   "cell_type": "markdown",
   "metadata": {},
   "source": [
    "### 导入数据"
   ]
  },
  {
   "cell_type": "markdown",
   "metadata": {},
   "source": [
    "Titanic生存模型预测，其中包含了两组数据：train.csv 和 test.csv，分别为训练集和测试集。"
   ]
  },
  {
   "cell_type": "code",
   "execution_count": 1,
   "metadata": {},
   "outputs": [
    {
     "data": {
      "text/html": [
       "<div>\n",
       "<style>\n",
       "    .dataframe thead tr:only-child th {\n",
       "        text-align: right;\n",
       "    }\n",
       "\n",
       "    .dataframe thead th {\n",
       "        text-align: left;\n",
       "    }\n",
       "\n",
       "    .dataframe tbody tr th {\n",
       "        vertical-align: top;\n",
       "    }\n",
       "</style>\n",
       "<table border=\"1\" class=\"dataframe\">\n",
       "  <thead>\n",
       "    <tr style=\"text-align: right;\">\n",
       "      <th></th>\n",
       "      <th>PassengerId</th>\n",
       "      <th>Survived</th>\n",
       "      <th>Pclass</th>\n",
       "      <th>Name</th>\n",
       "      <th>Sex</th>\n",
       "      <th>Age</th>\n",
       "      <th>SibSp</th>\n",
       "      <th>Parch</th>\n",
       "      <th>Ticket</th>\n",
       "      <th>Fare</th>\n",
       "      <th>Cabin</th>\n",
       "      <th>Embarked</th>\n",
       "    </tr>\n",
       "  </thead>\n",
       "  <tbody>\n",
       "    <tr>\n",
       "      <th>0</th>\n",
       "      <td>1</td>\n",
       "      <td>0</td>\n",
       "      <td>3</td>\n",
       "      <td>Braund, Mr. Owen Harris</td>\n",
       "      <td>male</td>\n",
       "      <td>22.0</td>\n",
       "      <td>1</td>\n",
       "      <td>0</td>\n",
       "      <td>A/5 21171</td>\n",
       "      <td>7.2500</td>\n",
       "      <td>NaN</td>\n",
       "      <td>S</td>\n",
       "    </tr>\n",
       "    <tr>\n",
       "      <th>1</th>\n",
       "      <td>2</td>\n",
       "      <td>1</td>\n",
       "      <td>1</td>\n",
       "      <td>Cumings, Mrs. John Bradley (Florence Briggs Th...</td>\n",
       "      <td>female</td>\n",
       "      <td>38.0</td>\n",
       "      <td>1</td>\n",
       "      <td>0</td>\n",
       "      <td>PC 17599</td>\n",
       "      <td>71.2833</td>\n",
       "      <td>C85</td>\n",
       "      <td>C</td>\n",
       "    </tr>\n",
       "    <tr>\n",
       "      <th>2</th>\n",
       "      <td>3</td>\n",
       "      <td>1</td>\n",
       "      <td>3</td>\n",
       "      <td>Heikkinen, Miss. Laina</td>\n",
       "      <td>female</td>\n",
       "      <td>26.0</td>\n",
       "      <td>0</td>\n",
       "      <td>0</td>\n",
       "      <td>STON/O2. 3101282</td>\n",
       "      <td>7.9250</td>\n",
       "      <td>NaN</td>\n",
       "      <td>S</td>\n",
       "    </tr>\n",
       "    <tr>\n",
       "      <th>3</th>\n",
       "      <td>4</td>\n",
       "      <td>1</td>\n",
       "      <td>1</td>\n",
       "      <td>Futrelle, Mrs. Jacques Heath (Lily May Peel)</td>\n",
       "      <td>female</td>\n",
       "      <td>35.0</td>\n",
       "      <td>1</td>\n",
       "      <td>0</td>\n",
       "      <td>113803</td>\n",
       "      <td>53.1000</td>\n",
       "      <td>C123</td>\n",
       "      <td>S</td>\n",
       "    </tr>\n",
       "    <tr>\n",
       "      <th>4</th>\n",
       "      <td>5</td>\n",
       "      <td>0</td>\n",
       "      <td>3</td>\n",
       "      <td>Allen, Mr. William Henry</td>\n",
       "      <td>male</td>\n",
       "      <td>35.0</td>\n",
       "      <td>0</td>\n",
       "      <td>0</td>\n",
       "      <td>373450</td>\n",
       "      <td>8.0500</td>\n",
       "      <td>NaN</td>\n",
       "      <td>S</td>\n",
       "    </tr>\n",
       "  </tbody>\n",
       "</table>\n",
       "</div>"
      ],
      "text/plain": [
       "   PassengerId  Survived  Pclass  \\\n",
       "0            1         0       3   \n",
       "1            2         1       1   \n",
       "2            3         1       3   \n",
       "3            4         1       1   \n",
       "4            5         0       3   \n",
       "\n",
       "                                                Name     Sex   Age  SibSp  \\\n",
       "0                            Braund, Mr. Owen Harris    male  22.0      1   \n",
       "1  Cumings, Mrs. John Bradley (Florence Briggs Th...  female  38.0      1   \n",
       "2                             Heikkinen, Miss. Laina  female  26.0      0   \n",
       "3       Futrelle, Mrs. Jacques Heath (Lily May Peel)  female  35.0      1   \n",
       "4                           Allen, Mr. William Henry    male  35.0      0   \n",
       "\n",
       "   Parch            Ticket     Fare Cabin Embarked  \n",
       "0      0         A/5 21171   7.2500   NaN        S  \n",
       "1      0          PC 17599  71.2833   C85        C  \n",
       "2      0  STON/O2. 3101282   7.9250   NaN        S  \n",
       "3      0            113803  53.1000  C123        S  \n",
       "4      0            373450   8.0500   NaN        S  "
      ]
     },
     "execution_count": 1,
     "metadata": {},
     "output_type": "execute_result"
    }
   ],
   "source": [
    "# -*- coding: utf-8 -*-\n",
    "import pandas as pd\n",
    "from pandas import DataFrame\n",
    "import numpy as np\n",
    "from pylab import mpl\n",
    "import matplotlib.pyplot as plt\n",
    "%matplotlib inline\n",
    "plt.style.use('ggplot')\n",
    "import seaborn as sns\n",
    "\n",
    "#导入训练数据\n",
    "train_data=pd.read_csv('Titanic/train.csv')\n",
    "\n",
    "#设置中文字体\n",
    "mpl.rcParams['font.sans-serif'] = ['SimHei'] \n",
    "train_data.head()#print"
   ]
  },
  {
   "cell_type": "code",
   "execution_count": 2,
   "metadata": {},
   "outputs": [
    {
     "data": {
      "text/html": [
       "<div>\n",
       "<style>\n",
       "    .dataframe thead tr:only-child th {\n",
       "        text-align: right;\n",
       "    }\n",
       "\n",
       "    .dataframe thead th {\n",
       "        text-align: left;\n",
       "    }\n",
       "\n",
       "    .dataframe tbody tr th {\n",
       "        vertical-align: top;\n",
       "    }\n",
       "</style>\n",
       "<table border=\"1\" class=\"dataframe\">\n",
       "  <thead>\n",
       "    <tr style=\"text-align: right;\">\n",
       "      <th></th>\n",
       "      <th>PassengerId</th>\n",
       "      <th>Pclass</th>\n",
       "      <th>Name</th>\n",
       "      <th>Sex</th>\n",
       "      <th>Age</th>\n",
       "      <th>SibSp</th>\n",
       "      <th>Parch</th>\n",
       "      <th>Ticket</th>\n",
       "      <th>Fare</th>\n",
       "      <th>Cabin</th>\n",
       "      <th>Embarked</th>\n",
       "    </tr>\n",
       "  </thead>\n",
       "  <tbody>\n",
       "    <tr>\n",
       "      <th>0</th>\n",
       "      <td>892</td>\n",
       "      <td>3</td>\n",
       "      <td>Kelly, Mr. James</td>\n",
       "      <td>male</td>\n",
       "      <td>34.5</td>\n",
       "      <td>0</td>\n",
       "      <td>0</td>\n",
       "      <td>330911</td>\n",
       "      <td>7.8292</td>\n",
       "      <td>NaN</td>\n",
       "      <td>Q</td>\n",
       "    </tr>\n",
       "    <tr>\n",
       "      <th>1</th>\n",
       "      <td>893</td>\n",
       "      <td>3</td>\n",
       "      <td>Wilkes, Mrs. James (Ellen Needs)</td>\n",
       "      <td>female</td>\n",
       "      <td>47.0</td>\n",
       "      <td>1</td>\n",
       "      <td>0</td>\n",
       "      <td>363272</td>\n",
       "      <td>7.0000</td>\n",
       "      <td>NaN</td>\n",
       "      <td>S</td>\n",
       "    </tr>\n",
       "    <tr>\n",
       "      <th>2</th>\n",
       "      <td>894</td>\n",
       "      <td>2</td>\n",
       "      <td>Myles, Mr. Thomas Francis</td>\n",
       "      <td>male</td>\n",
       "      <td>62.0</td>\n",
       "      <td>0</td>\n",
       "      <td>0</td>\n",
       "      <td>240276</td>\n",
       "      <td>9.6875</td>\n",
       "      <td>NaN</td>\n",
       "      <td>Q</td>\n",
       "    </tr>\n",
       "    <tr>\n",
       "      <th>3</th>\n",
       "      <td>895</td>\n",
       "      <td>3</td>\n",
       "      <td>Wirz, Mr. Albert</td>\n",
       "      <td>male</td>\n",
       "      <td>27.0</td>\n",
       "      <td>0</td>\n",
       "      <td>0</td>\n",
       "      <td>315154</td>\n",
       "      <td>8.6625</td>\n",
       "      <td>NaN</td>\n",
       "      <td>S</td>\n",
       "    </tr>\n",
       "    <tr>\n",
       "      <th>4</th>\n",
       "      <td>896</td>\n",
       "      <td>3</td>\n",
       "      <td>Hirvonen, Mrs. Alexander (Helga E Lindqvist)</td>\n",
       "      <td>female</td>\n",
       "      <td>22.0</td>\n",
       "      <td>1</td>\n",
       "      <td>1</td>\n",
       "      <td>3101298</td>\n",
       "      <td>12.2875</td>\n",
       "      <td>NaN</td>\n",
       "      <td>S</td>\n",
       "    </tr>\n",
       "  </tbody>\n",
       "</table>\n",
       "</div>"
      ],
      "text/plain": [
       "   PassengerId  Pclass                                          Name     Sex  \\\n",
       "0          892       3                              Kelly, Mr. James    male   \n",
       "1          893       3              Wilkes, Mrs. James (Ellen Needs)  female   \n",
       "2          894       2                     Myles, Mr. Thomas Francis    male   \n",
       "3          895       3                              Wirz, Mr. Albert    male   \n",
       "4          896       3  Hirvonen, Mrs. Alexander (Helga E Lindqvist)  female   \n",
       "\n",
       "    Age  SibSp  Parch   Ticket     Fare Cabin Embarked  \n",
       "0  34.5      0      0   330911   7.8292   NaN        Q  \n",
       "1  47.0      1      0   363272   7.0000   NaN        S  \n",
       "2  62.0      0      0   240276   9.6875   NaN        Q  \n",
       "3  27.0      0      0   315154   8.6625   NaN        S  \n",
       "4  22.0      1      1  3101298  12.2875   NaN        S  "
      ]
     },
     "execution_count": 2,
     "metadata": {},
     "output_type": "execute_result"
    }
   ],
   "source": [
    "#导入测试数据\n",
    "test_data=pd.read_csv('Titanic/test.csv')\n",
    "#观察test_data数据的缺失情况\n",
    "test_data.head()#print"
   ]
  },
  {
   "cell_type": "markdown",
   "metadata": {},
   "source": [
    "### 数据整体情况 "
   ]
  },
  {
   "cell_type": "code",
   "execution_count": 3,
   "metadata": {},
   "outputs": [
    {
     "name": "stdout",
     "output_type": "stream",
     "text": [
      "<class 'pandas.core.frame.DataFrame'>\n",
      "RangeIndex: 891 entries, 0 to 890\n",
      "Data columns (total 12 columns):\n",
      "PassengerId    891 non-null int64\n",
      "Survived       891 non-null int64\n",
      "Pclass         891 non-null int64\n",
      "Name           891 non-null object\n",
      "Sex            891 non-null object\n",
      "Age            714 non-null float64\n",
      "SibSp          891 non-null int64\n",
      "Parch          891 non-null int64\n",
      "Ticket         891 non-null object\n",
      "Fare           891 non-null float64\n",
      "Cabin          204 non-null object\n",
      "Embarked       889 non-null object\n",
      "dtypes: float64(2), int64(5), object(5)\n",
      "memory usage: 83.6+ KB\n"
     ]
    }
   ],
   "source": [
    "train_data.info()"
   ]
  },
  {
   "cell_type": "code",
   "execution_count": 4,
   "metadata": {},
   "outputs": [
    {
     "name": "stdout",
     "output_type": "stream",
     "text": [
      "<class 'pandas.core.frame.DataFrame'>\n",
      "RangeIndex: 418 entries, 0 to 417\n",
      "Data columns (total 11 columns):\n",
      "PassengerId    418 non-null int64\n",
      "Pclass         418 non-null int64\n",
      "Name           418 non-null object\n",
      "Sex            418 non-null object\n",
      "Age            332 non-null float64\n",
      "SibSp          418 non-null int64\n",
      "Parch          418 non-null int64\n",
      "Ticket         418 non-null object\n",
      "Fare           417 non-null float64\n",
      "Cabin          91 non-null object\n",
      "Embarked       418 non-null object\n",
      "dtypes: float64(2), int64(4), object(5)\n",
      "memory usage: 36.0+ KB\n"
     ]
    }
   ],
   "source": [
    "test_data.info()"
   ]
  },
  {
   "cell_type": "markdown",
   "metadata": {},
   "source": [
    "* train_data数据中有12个字段，包括Survived、Pclass、Name、Sex、Age等，共891条数据，包括有int64、object、float64三种数据类型。其中Age、Cabin、Embarked三个属性有缺失，分别缺少177、687、2条数据。\n",
    "\n",
    "* test_data数据中有11个字段，相比train_data缺少Survived属性，而这一属性也是最后需要对乘客进行预测的生存情况。其中Age、Fare、Cabin三个属性有缺失，分别缺失86、1、327条数据。"
   ]
  },
  {
   "cell_type": "markdown",
   "metadata": {},
   "source": [
    "### 数值类型数据分布"
   ]
  },
  {
   "cell_type": "code",
   "execution_count": 5,
   "metadata": {},
   "outputs": [
    {
     "data": {
      "text/html": [
       "<div>\n",
       "<style>\n",
       "    .dataframe thead tr:only-child th {\n",
       "        text-align: right;\n",
       "    }\n",
       "\n",
       "    .dataframe thead th {\n",
       "        text-align: left;\n",
       "    }\n",
       "\n",
       "    .dataframe tbody tr th {\n",
       "        vertical-align: top;\n",
       "    }\n",
       "</style>\n",
       "<table border=\"1\" class=\"dataframe\">\n",
       "  <thead>\n",
       "    <tr style=\"text-align: right;\">\n",
       "      <th></th>\n",
       "      <th>PassengerId</th>\n",
       "      <th>Survived</th>\n",
       "      <th>Pclass</th>\n",
       "      <th>Age</th>\n",
       "      <th>SibSp</th>\n",
       "      <th>Parch</th>\n",
       "      <th>Fare</th>\n",
       "    </tr>\n",
       "  </thead>\n",
       "  <tbody>\n",
       "    <tr>\n",
       "      <th>count</th>\n",
       "      <td>891.000000</td>\n",
       "      <td>891.000000</td>\n",
       "      <td>891.000000</td>\n",
       "      <td>714.000000</td>\n",
       "      <td>891.000000</td>\n",
       "      <td>891.000000</td>\n",
       "      <td>891.000000</td>\n",
       "    </tr>\n",
       "    <tr>\n",
       "      <th>mean</th>\n",
       "      <td>446.000000</td>\n",
       "      <td>0.383838</td>\n",
       "      <td>2.308642</td>\n",
       "      <td>29.699118</td>\n",
       "      <td>0.523008</td>\n",
       "      <td>0.381594</td>\n",
       "      <td>32.204208</td>\n",
       "    </tr>\n",
       "    <tr>\n",
       "      <th>std</th>\n",
       "      <td>257.353842</td>\n",
       "      <td>0.486592</td>\n",
       "      <td>0.836071</td>\n",
       "      <td>14.526497</td>\n",
       "      <td>1.102743</td>\n",
       "      <td>0.806057</td>\n",
       "      <td>49.693429</td>\n",
       "    </tr>\n",
       "    <tr>\n",
       "      <th>min</th>\n",
       "      <td>1.000000</td>\n",
       "      <td>0.000000</td>\n",
       "      <td>1.000000</td>\n",
       "      <td>0.420000</td>\n",
       "      <td>0.000000</td>\n",
       "      <td>0.000000</td>\n",
       "      <td>0.000000</td>\n",
       "    </tr>\n",
       "    <tr>\n",
       "      <th>25%</th>\n",
       "      <td>223.500000</td>\n",
       "      <td>0.000000</td>\n",
       "      <td>2.000000</td>\n",
       "      <td>20.125000</td>\n",
       "      <td>0.000000</td>\n",
       "      <td>0.000000</td>\n",
       "      <td>7.910400</td>\n",
       "    </tr>\n",
       "    <tr>\n",
       "      <th>50%</th>\n",
       "      <td>446.000000</td>\n",
       "      <td>0.000000</td>\n",
       "      <td>3.000000</td>\n",
       "      <td>28.000000</td>\n",
       "      <td>0.000000</td>\n",
       "      <td>0.000000</td>\n",
       "      <td>14.454200</td>\n",
       "    </tr>\n",
       "    <tr>\n",
       "      <th>75%</th>\n",
       "      <td>668.500000</td>\n",
       "      <td>1.000000</td>\n",
       "      <td>3.000000</td>\n",
       "      <td>38.000000</td>\n",
       "      <td>1.000000</td>\n",
       "      <td>0.000000</td>\n",
       "      <td>31.000000</td>\n",
       "    </tr>\n",
       "    <tr>\n",
       "      <th>max</th>\n",
       "      <td>891.000000</td>\n",
       "      <td>1.000000</td>\n",
       "      <td>3.000000</td>\n",
       "      <td>80.000000</td>\n",
       "      <td>8.000000</td>\n",
       "      <td>6.000000</td>\n",
       "      <td>512.329200</td>\n",
       "    </tr>\n",
       "  </tbody>\n",
       "</table>\n",
       "</div>"
      ],
      "text/plain": [
       "       PassengerId    Survived      Pclass         Age       SibSp  \\\n",
       "count   891.000000  891.000000  891.000000  714.000000  891.000000   \n",
       "mean    446.000000    0.383838    2.308642   29.699118    0.523008   \n",
       "std     257.353842    0.486592    0.836071   14.526497    1.102743   \n",
       "min       1.000000    0.000000    1.000000    0.420000    0.000000   \n",
       "25%     223.500000    0.000000    2.000000   20.125000    0.000000   \n",
       "50%     446.000000    0.000000    3.000000   28.000000    0.000000   \n",
       "75%     668.500000    1.000000    3.000000   38.000000    1.000000   \n",
       "max     891.000000    1.000000    3.000000   80.000000    8.000000   \n",
       "\n",
       "            Parch        Fare  \n",
       "count  891.000000  891.000000  \n",
       "mean     0.381594   32.204208  \n",
       "std      0.806057   49.693429  \n",
       "min      0.000000    0.000000  \n",
       "25%      0.000000    7.910400  \n",
       "50%      0.000000   14.454200  \n",
       "75%      0.000000   31.000000  \n",
       "max      6.000000  512.329200  "
      ]
     },
     "execution_count": 5,
     "metadata": {},
     "output_type": "execute_result"
    }
   ],
   "source": [
    "train_data.describe()"
   ]
  },
  {
   "cell_type": "markdown",
   "metadata": {
    "collapsed": true
   },
   "source": [
    "可以简单看出：\n",
    "\n",
    "\n",
    "$1. Titanic上乘客平均年龄不到30岁，说明船上以年轻人居多，不过也有少数老年人，其中其中最大年龄为80岁；$\n",
    "\n",
    "$2. 人员整体获救率比较低，仅有38%，可以想象当时事故的惨烈；$\n",
    "\n",
    "$3. 票价差异相对较大，其中最贵船票价位为512；$  \n",
    "\n",
    "$4. 乘客中多数人没有携带亲属；$\n",
    "\n",
    "$5. 有1/2/3三种船舱等级。$\n",
    "\n"
   ]
  },
  {
   "cell_type": "markdown",
   "metadata": {},
   "source": [
    "### 离散类型数据分布 "
   ]
  },
  {
   "cell_type": "code",
   "execution_count": 6,
   "metadata": {},
   "outputs": [
    {
     "data": {
      "text/html": [
       "<div>\n",
       "<style>\n",
       "    .dataframe thead tr:only-child th {\n",
       "        text-align: right;\n",
       "    }\n",
       "\n",
       "    .dataframe thead th {\n",
       "        text-align: left;\n",
       "    }\n",
       "\n",
       "    .dataframe tbody tr th {\n",
       "        vertical-align: top;\n",
       "    }\n",
       "</style>\n",
       "<table border=\"1\" class=\"dataframe\">\n",
       "  <thead>\n",
       "    <tr style=\"text-align: right;\">\n",
       "      <th></th>\n",
       "      <th>Name</th>\n",
       "      <th>Sex</th>\n",
       "      <th>Ticket</th>\n",
       "      <th>Cabin</th>\n",
       "      <th>Embarked</th>\n",
       "    </tr>\n",
       "  </thead>\n",
       "  <tbody>\n",
       "    <tr>\n",
       "      <th>count</th>\n",
       "      <td>891</td>\n",
       "      <td>891</td>\n",
       "      <td>891</td>\n",
       "      <td>204</td>\n",
       "      <td>889</td>\n",
       "    </tr>\n",
       "    <tr>\n",
       "      <th>unique</th>\n",
       "      <td>891</td>\n",
       "      <td>2</td>\n",
       "      <td>681</td>\n",
       "      <td>147</td>\n",
       "      <td>3</td>\n",
       "    </tr>\n",
       "    <tr>\n",
       "      <th>top</th>\n",
       "      <td>Kelly, Mrs. Florence \"Fannie\"</td>\n",
       "      <td>male</td>\n",
       "      <td>1601</td>\n",
       "      <td>B96 B98</td>\n",
       "      <td>S</td>\n",
       "    </tr>\n",
       "    <tr>\n",
       "      <th>freq</th>\n",
       "      <td>1</td>\n",
       "      <td>577</td>\n",
       "      <td>7</td>\n",
       "      <td>4</td>\n",
       "      <td>644</td>\n",
       "    </tr>\n",
       "  </tbody>\n",
       "</table>\n",
       "</div>"
      ],
      "text/plain": [
       "                                 Name   Sex Ticket    Cabin Embarked\n",
       "count                             891   891    891      204      889\n",
       "unique                            891     2    681      147        3\n",
       "top     Kelly, Mrs. Florence \"Fannie\"  male   1601  B96 B98        S\n",
       "freq                                1   577      7        4      644"
      ]
     },
     "execution_count": 6,
     "metadata": {},
     "output_type": "execute_result"
    }
   ],
   "source": [
    "train_data.describe(include=[np.object])"
   ]
  },
  {
   "cell_type": "markdown",
   "metadata": {},
   "source": [
    "可以简单分析出Name、Sex、Ticket、Cabin、Embarked这几个字段里：\n",
    "\n",
    "$1. Name属性唯一，没有重名的现象；$\n",
    "\n",
    "$2. Sex属性显示比较符合预期，只有男性和女性两种性别，其中男性居多，有577名；$\n",
    "\n",
    "$3. Cabin属性不是唯一的，推测可能跟家属共用一张船票；$\n",
    "\n",
    "$4. 登陆港口有三个，其中S港口登陆的最多。$"
   ]
  },
  {
   "cell_type": "markdown",
   "metadata": {},
   "source": [
    "### 数据概况"
   ]
  },
  {
   "cell_type": "markdown",
   "metadata": {},
   "source": [
    "接下来分析一下Sex、Pclass、Embarked、Parch、SibSp、Age这几个特征列的分布情况。俗话说字不如表，表不如图。我们还是统计统计，画些图来看看各特征集概况："
   ]
  },
  {
   "cell_type": "code",
   "execution_count": 7,
   "metadata": {},
   "outputs": [
    {
     "data": {
      "image/png": "[encoded data removed]",
      "text/plain": [
       "<matplotlib.figure.Figure at 0xb68f358>"
      ]
     },
     "metadata": {},
     "output_type": "display_data"
    }
   ],
   "source": [
    "#观察性别特征分布情况\n",
    "count_by_sex=train_data.groupby('Sex')['Sex'].count()\n",
    "fig = plt.figure(figsize=(6,8))\n",
    "ax1 = plt.subplot(331)\n",
    "rect = ax1.bar(([1,2]),count_by_sex.values ,width = 0.5, align = 'center')\n",
    "ax1.set_title('Distribution of Sex')\n",
    "\n",
    "#自定义函数设置X轴刻度：\n",
    "def add_xtricks(rects,xtricks):\n",
    "    x = []\n",
    "    for rect in rects:\n",
    "        x.append(rect.get_x() + rect.get_width()/2)\n",
    "    x = tuple(x)\n",
    "    plt.xticks(x,xtricks)\n",
    "add_xtricks(rect,count_by_sex.index)\n",
    "\n",
    "#观察舱位分布情况\n",
    "count_by_Pclass = train_data.groupby(['Pclass']).Pclass.count()\n",
    "ax2 = plt.subplot(332)\n",
    "rect = ax2.bar(count_by_Pclass.index,count_by_Pclass.values,width = 0.4)\n",
    "add_xtricks(rect,count_by_Pclass.index)\n",
    "\n",
    "ax2.set_title('Distribution of Pclass')\n",
    "\n",
    "#观察登船码头分布情况\n",
    "count_by_Embarked = train_data.groupby(['Embarked']).Embarked.count()\n",
    "ax3=plt.subplot(333)\n",
    "rect=ax3.bar(range(len(count_by_Embarked)),count_by_Embarked.values)\n",
    "add_xtricks(rect,count_by_Embarked.index)\n",
    "ax3.set_title('Distribution of Embarked')\n",
    "\n",
    "\n",
    "#观察直系亲属个数分布情况\n",
    "count_by_Parch=train_data.groupby(['Parch']).Parch.count()\n",
    "ax5 = plt.subplot(323)\n",
    "rect=ax5.bar(count_by_Parch.index,count_by_Parch.values)\n",
    "add_xtricks(rect,count_by_Parch.index)\n",
    "ax5.set_title('Distribution of Parch')\n",
    "\n",
    "\n",
    "#观察堂兄弟/妹个数分布情况\n",
    "count_by_SibSp=train_data.groupby(['SibSp']).SibSp.count()\n",
    "ax5 = plt.subplot(324)\n",
    "rect=ax5.bar(count_by_SibSp.index,count_by_SibSp.values)\n",
    "add_xtricks(rect,count_by_SibSp.index)\n",
    "ax5.set_title('Distribution of SibSp')\n",
    "\n",
    "\n",
    "#观察年龄分布情况\n",
    "#这里笔者将年龄数据按照年龄段分组，能够更加直观清晰了解不同年龄分布\n",
    "bins =np.arange(0,90,10)\n",
    "train_data['Age_group'] = pd.cut(train_data['Age'], bins)\n",
    "drop_null_age =train_data[train_data['Age_group'].notnull()]\n",
    "count_by_age = drop_null_age.groupby('Age_group')['Name'].count()\n",
    "ax4 = plt.subplot(313)\n",
    "rect=ax4.bar(range(len(count_by_age)),count_by_age.values)\n",
    "add_xtricks(rect,count_by_age.index)\n",
    "ax4.set_title('Distribution of Age')\n",
    "\n",
    "#利用subplots_adjust函数调整不同图例之间间距\n",
    "plt.subplots_adjust(right=1.2, left=0, bottom=0.14, top=1.2, hspace = 0.4)"
   ]
  },
  {
   "cell_type": "markdown",
   "metadata": {},
   "source": [
    "通过对Sex、Pclass、Age这三个特征进行处理，可以详细的观察出这三个字段的乘客分布情况：\n",
    "\n",
    "\n",
    "$1. 乘客中，女性少于男性，与上文简单数据描述结果相吻合。$                             \n",
    "\n",
    "$2. 1/2/3这三种船舱等级乘客数量排序为3>1>2，多数乘客选择了低等舱。$\n",
    "\n",
    "$3. 可以看出，从S码头登陆的乘客要远多于另外两个码头。$\n",
    "\n",
    "$4. Parch（父母与小孩）特征列整体呈现左偏分布并且逐渐下降的趋势。超过半数乘客没有携带直系亲属，其中一位乘客携带了6名直系亲属，可谓\"拖家带口\"了。$\n",
    " \n",
    "$5. SibSp（堂兄弟/妹）这一列跟Parch列整体分布趋势相同，同样有超过半数的乘客没有携带堂兄弟/妹，其中乘客最多的携带了8名堂兄弟/妹。$\n",
    " \n",
    "$6. 年龄分布中间高两端低，总体呈现近似正态分布，乘客人数最多的年龄段为(20,30]。$"
   ]
  },
  {
   "cell_type": "markdown",
   "metadata": {},
   "source": [
    "### 幸存率与Sex（性别）的关系"
   ]
  },
  {
   "cell_type": "code",
   "execution_count": 8,
   "metadata": {},
   "outputs": [
    {
     "data": {
      "text/plain": [
       "<matplotlib.legend.Legend at 0xc4380b8>"
      ]
     },
     "execution_count": 8,
     "metadata": {},
     "output_type": "execute_result"
    },
    {
     "data": {
      "image/png": "[encoded data removed]",
      "text/plain": [
       "<matplotlib.figure.Figure at 0xc1749b0>"
      ]
     },
     "metadata": {},
     "output_type": "display_data"
    }
   ],
   "source": [
    "#计算不同性别幸存率\n",
    "survived_rate_by_sex=train_data[['Sex', 'Survived']].groupby(['Sex'], as_index=True).mean().sort_values(by='Survived', ascending=False)\n",
    "##计算获救乘员的性别分布\n",
    "survived_by_sex=train_data.groupby(['Sex'])['Survived'].sum()\n",
    "\n",
    "#绘制条形图\n",
    "fig = plt.figure()\n",
    "ax1 = fig.add_subplot(111)\n",
    "rect = ax1.bar([0,1],count_by_sex.values,width = 0.3)\n",
    "rect1 = ax1.bar([.3,1.3], survived_by_sex.values, width = 0.3)\n",
    "ax1.set_ylabel('Quantity')\n",
    "\n",
    "#设置图例\n",
    "plt.legend((rect,rect1),('Count','Suvived'),loc='upper left')\n",
    "\n",
    "#绘制生还率折线图\n",
    "ax2 = ax1.twinx()\n",
    "ax2.set_ylim(0,1)\n",
    "plt.legend((rect,rect1),('Count','Suvived'),loc='upper left')\n",
    "plt.grid(False)\n",
    "x1=[i+0.15 for i in range(len(survived_rate_by_sex))]\n",
    "y=survived_rate_by_sex.Survived\n",
    "rect2= ax2.plot(x1,y,'mo-', label = 'right')\n",
    "#设置X轴标签\n",
    "plt.xticks([0.15,1.15],count_by_sex.index)\n",
    "#添加折线图图例\n",
    "plt.legend((rect2),['survived_rate'],loc='upper center')"
   ]
  },
  {
   "cell_type": "markdown",
   "metadata": {},
   "source": [
    "以上代码输出可以清晰地看到女性的获救率和获救人数都远远高于男性！Titanic乘客314名女性中获救人数233人，获救率约为74%，而577名男性乘客中，获救的只有109名，比例约为19%。\n",
    "\n",
    "因此这里可以得出一个结论，Titanic事件中，**女性乘客的生存几率要远远高于男性乘客**，看来电影中那句感人台词“让女人先走”在实际沉船事件中被坚定不移的执行了。"
   ]
  },
  {
   "cell_type": "markdown",
   "metadata": {},
   "source": [
    "### 幸存率与Age（年龄）的关系"
   ]
  },
  {
   "cell_type": "code",
   "execution_count": 9,
   "metadata": {},
   "outputs": [
    {
     "data": {
      "text/plain": [
       "{'boxes': [<matplotlib.lines.Line2D at 0xc545358>],\n",
       " 'caps': [<matplotlib.lines.Line2D at 0xc550e80>,\n",
       "  <matplotlib.lines.Line2D at 0xc539a20>],\n",
       " 'fliers': [<matplotlib.lines.Line2D at 0xc55e710>],\n",
       " 'means': [],\n",
       " 'medians': [<matplotlib.lines.Line2D at 0xc556828>],\n",
       " 'whiskers': [<matplotlib.lines.Line2D at 0xc545da0>,\n",
       "  <matplotlib.lines.Line2D at 0xc545f98>]}"
      ]
     },
     "execution_count": 9,
     "metadata": {},
     "output_type": "execute_result"
    },
    {
     "data": {
      "image/png": "[encoded data removed]",
      "text/plain": [
       "<matplotlib.figure.Figure at 0xb685c50>"
      ]
     },
     "metadata": {},
     "output_type": "display_data"
    }
   ],
   "source": [
    "#计算不同年龄段生还人数\n",
    "survived_by_age= train_data.groupby('Age_group')['Survived'].sum()\n",
    "#计算不同年龄段幸存率\n",
    "survived_rate_by_age=survived_by_age.apply(float)/count_by_age.apply(float).round(2)\n",
    "\n",
    "#绘制箱线图观察各年龄段幸存率分布情况\n",
    "y = [1 for i in range(len(survived_rate_by_age))]\n",
    "plt.figure(figsize = [8,3])\n",
    "plt.scatter(survived_rate_by_age.values,y)\n",
    "plt.boxplot(survived_rate_by_age.values,vert = False, whis = [10,90]) "
   ]
  },
  {
   "cell_type": "markdown",
   "metadata": {},
   "source": [
    "这里使用箱线图可以看出**不同年龄段获救率大多集中在0.2-0.5之间**，每个点分布比较散乱没有比较直观的规律，接下来继续对不同年龄段获救率进行可视化分析。"
   ]
  },
  {
   "cell_type": "code",
   "execution_count": 10,
   "metadata": {},
   "outputs": [
    {
     "data": {
      "text/plain": [
       "<matplotlib.legend.Legend at 0xc68f9e8>"
      ]
     },
     "execution_count": 10,
     "metadata": {},
     "output_type": "execute_result"
    },
    {
     "data": {
      "image/png": "[encoded data removed]",
      "text/plain": [
       "<matplotlib.figure.Figure at 0xc1cb6a0>"
      ]
     },
     "metadata": {},
     "output_type": "display_data"
    }
   ],
   "source": [
    "#绘制条形图\n",
    "fig = plt.figure()\n",
    "ax1 = fig.add_subplot(111)\n",
    "ax1.set_ylim(0,250)\n",
    "rect = plt.bar(range(len(count_by_age)),count_by_age.values, width = 0.4)\n",
    "x = [i + 0.4 for i in range(len(survived_by_age))]\n",
    "rect1 = plt.bar(x, survived_by_age.values, width = 0.4)\n",
    "add_xtricks(rect,count_by_age.index)\n",
    "\n",
    "#添加图例\n",
    "plt.legend((rect,rect1),('Count','Suvived'),loc='upper left')\n",
    "\n",
    "#绘制不同年龄段幸存率折线图\n",
    "ax2 = ax1.twinx()#利用twinx函数使同一个图显示两个Y轴\n",
    "#设置Y轴刻度\n",
    "ax2.set_ylim(0,1)\n",
    "plt.grid(False)\n",
    "x1=[i + 0.2 for i in range(len(survived_by_age))]\n",
    "y=survived_rate_by_age.values\n",
    "rect2= ax2.plot(x1,y,'mo-', label = 'right')\n",
    "#添加折线图图例\n",
    "plt.legend((rect2),['survived_rate'],loc='upper center')"
   ]
  },
  {
   "cell_type": "markdown",
   "metadata": {},
   "source": [
    "可以看出：\n",
    "\n",
    "\n",
    "*1. 不同年龄段获救乘客人数的年龄分布与总乘客人数分布的形态比较相似，也是中间高两头低。*\n",
    "\n",
    "*2. 获救率最高的年龄段为（0,10]年龄段，达到了60%左右。*\n",
    "\n",
    "*3. 生存率最低的为(70,80]年龄段，获救率仅为20%左右，结合前面的分析可以看出，唯一的幸存者，也是年龄最大的一位，达到了80岁高龄。*\n",
    "\n",
    "*4. 乘客人数最多的青年（20,30]人群获救率却相对比较低，仅为32%左右。*\n",
    "\n",
    "*5. 中年（30,60]人群获救率大多集中在40%左右，跟总的乘客生还率38%比较接近。*\n",
    "\n",
    "    上面这些结论与有点出乎意料。一般来讲，由于生理上的差异，在面对灾难时，青壮年群体的生还率要显著高于儿童。但是我们可以看到在Titanic沉船事件中并非如此，青年（20,30]生还率远低于儿童(0,10]群体，笔者猜测或许（20,30]年龄段正是年轻热血的时期，在面对灾难的时候，许多人就像电影里的主角Jack一样，将生还的机会给了自己的爱人、亲人或者朋友，而自己从容赴死。"
   ]
  },
  {
   "cell_type": "markdown",
   "metadata": {},
   "source": [
    "### 幸存率与Pclass的关系 "
   ]
  },
  {
   "cell_type": "code",
   "execution_count": 11,
   "metadata": {},
   "outputs": [
    {
     "data": {
      "text/plain": [
       "<matplotlib.legend.Legend at 0xc7bb588>"
      ]
     },
     "execution_count": 11,
     "metadata": {},
     "output_type": "execute_result"
    },
    {
     "data": {
      "image/png": "[encoded data removed]",
      "text/plain": [
       "<matplotlib.figure.Figure at 0xb685710>"
      ]
     },
     "metadata": {},
     "output_type": "display_data"
    }
   ],
   "source": [
    "#计算不同船舱等级的幸存人数\n",
    "survived_by_Pclass=train_data.groupby(['Pclass'])['Survived'].sum().round(2)\n",
    "#计算不同船舱等级幸存率\n",
    "survived_rate_by_Pclass=survived_by_Pclass.apply(float)/count_by_Pclass.apply(float).round(2)\n",
    "\n",
    "#绘制条形图进行可视化分析\n",
    "fig = plt.figure()\n",
    "ax1 = fig.add_subplot(111)\n",
    "rect=ax1.bar(count_by_Pclass.index,count_by_Pclass.values,width=0.3)\n",
    "rect1=ax1.bar(survived_by_Pclass.index+0.3,survived_by_Pclass.values,width=0.3)\n",
    "#设置x轴标签\n",
    "plt.xticks(count_by_Pclass.index + 0.15,count_by_Pclass.index)\n",
    "plt.legend((rect,rect1),('Pclass','Suvived'),loc='upper left')\n",
    "\n",
    "#绘制不同船舱等级幸存率折线图\n",
    "ax2=ax1.twinx()\n",
    "plt.grid(False)\n",
    "ax2.set_ylim(0,1)\n",
    "ax2.plot(survived_rate_by_Pclass.index+0.15,survived_rate_by_Pclass.values,'mo-', label = 'right')\n",
    "plt.legend((rect2),['survived_rate'],loc='upper center')"
   ]
  },
  {
   "cell_type": "markdown",
   "metadata": {},
   "source": [
    "这张图可以得出非常明确的信息：\n",
    "\n",
    "1. 生存人数方面来看，1等舱生存人数最多，其次是3等舱，2等舱生存人数最少。\n",
    "\n",
    "2. 1等舱生还比例最高，为63%左右；2等舱次之，3等舱最低。 这是非常明显的阶梯型的差异，1等舱乘客的生还率远高于3等舱，是两倍还多。\n",
    "\n",
    "推测造成这种结果的原因有两种：\n",
    "\n",
    "* 一般3等舱处于船舱最底部，也是发生海难时最危险的舱室，而1等舱处于上部，有较多的时间用于逃生。\n",
    "\n",
    "* 头等舱周围救生配置远高于别的船舱，因此就登船地利方面来说，登船优先级：1>2>3。\n",
    "\n",
    "总之可以得出明确结论：**在Titanic沉船事件中，相对富有的人（1等舱乘客）生还率远高于相对贫穷的人（3等舱乘客）**。"
   ]
  },
  {
   "cell_type": "markdown",
   "metadata": {},
   "source": [
    "###  幸存率与Embarked的关系"
   ]
  },
  {
   "cell_type": "code",
   "execution_count": 12,
   "metadata": {},
   "outputs": [
    {
     "data": {
      "text/plain": [
       "<matplotlib.legend.Legend at 0xc88b5c0>"
      ]
     },
     "execution_count": 12,
     "metadata": {},
     "output_type": "execute_result"
    },
    {
     "data": {
      "image/png": "[encoded data removed]",
      "text/plain": [
       "<matplotlib.figure.Figure at 0xc7e7828>"
      ]
     },
     "metadata": {},
     "output_type": "display_data"
    }
   ],
   "source": [
    "#计算不同登船码头获救乘客人数\n",
    "survived_by_Embarked= train_data.groupby('Embarked')['Survived'].sum()\n",
    "#计算不同登船码头幸存率\n",
    "survived_rate_by_Embarked=survived_by_Embarked.apply(float)/count_by_Embarked\n",
    "#绘制条形图\n",
    "fig = plt.figure()\n",
    "ax1 = fig.add_subplot(111)\n",
    "x = [i for i in range(len(count_by_Embarked))]\n",
    "rect=ax1.bar(x, count_by_Embarked.values,width=0.3)\n",
    "x1=[i+0.3 for i in range(len(survived_by_Embarked))]\n",
    "rect1=ax1.bar(x1,survived_by_Embarked.values,width=0.3)\n",
    "#设置x轴标签\n",
    "plt.xticks([0.15,1.15,2.15],count_by_Embarked.index)\n",
    "plt.legend((rect,rect1),('Embarked','Suvived'),loc='upper left')\n",
    "\n",
    "#绘制不同登船码头幸存率折线图\n",
    "ax2=ax1.twinx()\n",
    "plt.grid(False)\n",
    "ax2.set_ylim(0,1)\n",
    "x2= [i+0.15 for i in range(len(survived_by_Embarked))]\n",
    "ax2.plot(x2,survived_rate_by_Embarked.values,'mo-', label = 'right')\n",
    "plt.legend((rect2),['survived_rate'],loc='upper center')"
   ]
  },
  {
   "cell_type": "markdown",
   "metadata": {},
   "source": [
    "通过以上分析可以看出：\n",
    "\n",
    "1. 从生存人数来看，S码头登船的乘客生存人数最多，C码头次之，Q码头最少。\n",
    "2. 在**不同的港口登船，生还率不同，C码头乘客幸存率最高，Q码头次之，S码头生还率最少。**\n",
    "              "
   ]
  },
  {
   "cell_type": "markdown",
   "metadata": {},
   "source": [
    "### 幸存率与Fare的关系"
   ]
  },
  {
   "cell_type": "code",
   "execution_count": 13,
   "metadata": {},
   "outputs": [
    {
     "data": {
      "text/plain": [
       "<matplotlib.axes._subplots.AxesSubplot at 0xc031d30>"
      ]
     },
     "execution_count": 13,
     "metadata": {},
     "output_type": "execute_result"
    },
    {
     "data": {
      "image/png": "[encoded data removed]",
      "text/plain": [
       "<matplotlib.figure.Figure at 0xb685278>"
      ]
     },
     "metadata": {},
     "output_type": "display_data"
    }
   ],
   "source": [
    "fare_survived = train_data['Fare'][train_data['Survived']==1]\n",
    "fare_no_survived = train_data['Fare'][train_data['Survived']==0]\n",
    "avgerage_fare = pd.DataFrame([fare_no_survived.mean() ,fare_survived.mean()],columns=['avg_fare']).round(1)\n",
    "\n",
    "avgerage_fare.plot.bar(width=0.2)"
   ]
  },
  {
   "cell_type": "markdown",
   "metadata": {},
   "source": [
    "这里可以清晰地看到，**票价与获救情况有一定相关性，以平均票价来看，获救乘客明显高于未获救乘客**，至于产生这种结果的原因，笔者认为票价高的乘客应该集中在1、2等舱里，这样就比较容易解释为何票价会影响乘客的获救情况了。"
   ]
  },
  {
   "cell_type": "markdown",
   "metadata": {},
   "source": [
    "### 幸存率与Cabin有无的关系 "
   ]
  },
  {
   "cell_type": "code",
   "execution_count": 14,
   "metadata": {},
   "outputs": [
    {
     "data": {
      "text/plain": [
       "<matplotlib.figure.Figure at 0xc9cb0b8>"
      ]
     },
     "metadata": {},
     "output_type": "display_data"
    },
    {
     "data": {
      "image/png": "[encoded data removed]",
      "text/plain": [
       "<matplotlib.figure.Figure at 0xc9719b0>"
      ]
     },
     "metadata": {},
     "output_type": "display_data"
    }
   ],
   "source": [
    "#Cabin缺失值比较多，可以先把Cabin缺失与否作为条件进行简要分析\n",
    "Survived_cabin = train_data.Survived[pd.notnull(train_data.Cabin)].value_counts()\n",
    "Survived_nocabin = train_data.Survived[pd.isnull(train_data.Cabin)].value_counts()\n",
    "df=pd.DataFrame({u'有':Survived_cabin, u'无':Survived_nocabin}).transpose()\n",
    "\n",
    "#绘图简单分析有无Cabin对幸存率的影响\n",
    "fig = plt.figure()\n",
    "fig.set(alpha=0.2)  # 设定图表颜色alpha参数\n",
    "df.plot(kind='bar', stacked=True)\n",
    "plt.show()"
   ]
  },
  {
   "cell_type": "markdown",
   "metadata": {},
   "source": [
    "可以看出，上图显示在**有Cabin数据的乘客的幸存人数所占比例远高于无Cabin数据的乘客**，所以我们可以将Cabin的有无数据作为一个特征。"
   ]
  },
  {
   "cell_type": "markdown",
   "metadata": {},
   "source": [
    "### 幸存率与 Relative的关系"
   ]
  },
  {
   "cell_type": "markdown",
   "metadata": {},
   "source": [
    "    由于SibSp（堂兄弟/妹）和Parch（直系亲属）同属于亲属行列，这里为了方便观察分析，可以将之合并为Relative（亲属）这一组合项进行简单的分析，同时也保留这两项原始特征列进行后续建模分析。"
   ]
  },
  {
   "cell_type": "code",
   "execution_count": 15,
   "metadata": {},
   "outputs": [
    {
     "data": {
      "image/png": "[encoded data removed]",
      "text/plain": [
       "<matplotlib.figure.Figure at 0xca089b0>"
      ]
     },
     "metadata": {},
     "output_type": "display_data"
    }
   ],
   "source": [
    "train_data['Relative']=train_data['SibSp']+train_data['Parch']\n",
    "count_by_Relative=train_data.groupby(['Relative']).Parch.count()\n",
    "survived_by_Relative=train_data.groupby(['Relative'])['Survived'].sum()\n",
    "survived_rate_by_Relative=survived_by_Relative.apply(float)/count_by_Relative.apply(float).round(2)\n",
    "survived_rate_by_Relative\n",
    "fig = plt.figure()\n",
    "ax = fig.add_subplot(111)\n",
    "ax.scatter(count_by_Relative.index, survived_rate_by_Relative.values, s=count_by_Relative.values)  # 第三个变量表明根据收入气泡的大小\n",
    "plt.show()"
   ]
  },
  {
   "cell_type": "markdown",
   "metadata": {},
   "source": [
    "从气泡图中可以看出：\n",
    "\n",
    "1. Titanic沉船事件中，**当乘客携带3名亲属时，获救率最高，约为72%左右**。\n",
    "2. 可以看出，在**携带0-3名亲属时，随着亲属数量的增加，获救几率在随之增大**，看来跟三两亲属同行能显著增加乘客的获救率。但是获救率和亲属数量并不是呈正比例增加，在4名亲属时生存率显著降低，仅有20%左右，不过由于4-10名亲属的乘客数量基数较少，计算出的生还率不具备显著的统计学意义，暂不进行深入探究。"
   ]
  },
  {
   "cell_type": "markdown",
   "metadata": {},
   "source": [
    "## 简单数据预处理 "
   ]
  },
  {
   "cell_type": "markdown",
   "metadata": {},
   "source": [
    "在上面的分析过程中，对各属性已经有了大致的了解，同时也简单的分析了各特征与幸存率之间的关系。接下来在机器学习建模前，需要对这些特征数据进行数据预处理。"
   ]
  },
  {
   "cell_type": "markdown",
   "metadata": {},
   "source": [
    "### 缺失值处理 "
   ]
  },
  {
   "cell_type": "markdown",
   "metadata": {},
   "source": [
    "train_data数据集中，其中Cabin,Age,Embarked三个属性有缺失，而通过之前分析，这三个属性都对Survived有影响，因此需要补全缺失值。\n",
    "\n",
    "* Cabin属性为非连续值特征属性，可以按Cabin有无数据，将这个属性处理成Yes和No两种类型。\n",
    "* Embarked属性缺失较少，可以直接用众数来填充。\n",
    "* Age属性缺失值样本适中，可以用scikit-learn中的RandomForest根据已有数据来拟合缺失的年龄数据。"
   ]
  },
  {
   "cell_type": "code",
   "execution_count": 16,
   "metadata": {
    "collapsed": true
   },
   "outputs": [],
   "source": [
    "#将之前添加的特征列Age_group,Relative删除\n",
    "train_data.drop(['Age_group','Relative'], axis=1, inplace=True)\n",
    "\n",
    "#自定义函数，将有Cabin的数据作为Yes，Cabin缺失的数据作为No\n",
    "def set_Cabin_type(df):\n",
    "    df.loc[(df.Cabin.notnull()),'Cabin']='Yes'\n",
    "    df.loc[(df.Cabin.isnull()),'Cabin']='No'\n",
    "    return df\n",
    "train_data = set_Cabin_type(train_data)\n",
    "\n",
    "#Embarked特征列缺失值以众数来填充\n",
    "train_data['Embarked'].fillna(train_data['Embarked'].mode().iloc[0], inplace=True)\n",
    "\n",
    "from sklearn.ensemble import RandomForestRegressor\n",
    "#选择已有特征数值选出来进行预测年龄\n",
    "age_df = train_data[['Age','Survived','Fare', 'Parch', 'SibSp', 'Pclass']]\n",
    "#将年龄分为有缺失和无缺失两种\n",
    "age_df_notnull = age_df.loc[(train_data['Age'].notnull())]\n",
    "age_df_isnull = age_df.loc[(train_data['Age'].isnull())]\n",
    "#X为特征属性值\n",
    "X = age_df_notnull.values[:,1:]\n",
    "#Y为目标年龄\n",
    "Y = age_df_notnull.values[:,0]\n",
    "# 使用RandomForestRegression进行预测\n",
    "RFR = RandomForestRegressor(n_estimators=1000, n_jobs=-1)\n",
    "# fit到RandomForestRegressor之中\n",
    "RFR.fit(X,Y)\n",
    "#用得到的模型进行预测未知年龄\n",
    "predictAges = RFR.predict(age_df_isnull.values[:,1:])\n",
    "#将预测出的年龄填补缺失数值\n",
    "train_data.loc[train_data['Age'].isnull(), ['Age']]= predictAges"
   ]
  },
  {
   "cell_type": "code",
   "execution_count": 17,
   "metadata": {},
   "outputs": [
    {
     "data": {
      "image/png": "[encoded data removed]",
      "text/plain": [
       "<matplotlib.figure.Figure at 0xc4fd780>"
      ]
     },
     "metadata": {},
     "output_type": "display_data"
    }
   ],
   "source": [
    "#除了info函数，还有另一种‘高大上’的利用可视化的方法查看缺失值情况\n",
    "import missingno as msno\n",
    "msno.matrix(train_data,figsize=(12,5))"
   ]
  },
  {
   "cell_type": "markdown",
   "metadata": {},
   "source": [
    "可以看到，此时缺失值已经被基本处理完了，另外做逻辑回归建模时，需要输入的特征都是数值型特征，因此要将一些非数字型的原始数据转换为数字型numeric。"
   ]
  },
  {
   "cell_type": "markdown",
   "metadata": {},
   "source": [
    "###  数值定性转换"
   ]
  },
  {
   "cell_type": "code",
   "execution_count": 18,
   "metadata": {},
   "outputs": [
    {
     "data": {
      "text/html": [
       "<div>\n",
       "<style>\n",
       "    .dataframe thead tr:only-child th {\n",
       "        text-align: right;\n",
       "    }\n",
       "\n",
       "    .dataframe thead th {\n",
       "        text-align: left;\n",
       "    }\n",
       "\n",
       "    .dataframe tbody tr th {\n",
       "        vertical-align: top;\n",
       "    }\n",
       "</style>\n",
       "<table border=\"1\" class=\"dataframe\">\n",
       "  <thead>\n",
       "    <tr style=\"text-align: right;\">\n",
       "      <th></th>\n",
       "      <th>PassengerId</th>\n",
       "      <th>Survived</th>\n",
       "      <th>Age</th>\n",
       "      <th>SibSp</th>\n",
       "      <th>Parch</th>\n",
       "      <th>Fare</th>\n",
       "      <th>Cabin_No</th>\n",
       "      <th>Cabin_Yes</th>\n",
       "      <th>Embarked_C</th>\n",
       "      <th>Embarked_Q</th>\n",
       "      <th>Embarked_S</th>\n",
       "      <th>Sex_female</th>\n",
       "      <th>Sex_male</th>\n",
       "      <th>Pclass_1</th>\n",
       "      <th>Pclass_2</th>\n",
       "      <th>Pclass_3</th>\n",
       "    </tr>\n",
       "  </thead>\n",
       "  <tbody>\n",
       "    <tr>\n",
       "      <th>0</th>\n",
       "      <td>1</td>\n",
       "      <td>0</td>\n",
       "      <td>22.0</td>\n",
       "      <td>1</td>\n",
       "      <td>0</td>\n",
       "      <td>7.2500</td>\n",
       "      <td>1</td>\n",
       "      <td>0</td>\n",
       "      <td>0</td>\n",
       "      <td>0</td>\n",
       "      <td>1</td>\n",
       "      <td>0</td>\n",
       "      <td>1</td>\n",
       "      <td>0</td>\n",
       "      <td>0</td>\n",
       "      <td>1</td>\n",
       "    </tr>\n",
       "    <tr>\n",
       "      <th>1</th>\n",
       "      <td>2</td>\n",
       "      <td>1</td>\n",
       "      <td>38.0</td>\n",
       "      <td>1</td>\n",
       "      <td>0</td>\n",
       "      <td>71.2833</td>\n",
       "      <td>0</td>\n",
       "      <td>1</td>\n",
       "      <td>1</td>\n",
       "      <td>0</td>\n",
       "      <td>0</td>\n",
       "      <td>1</td>\n",
       "      <td>0</td>\n",
       "      <td>1</td>\n",
       "      <td>0</td>\n",
       "      <td>0</td>\n",
       "    </tr>\n",
       "    <tr>\n",
       "      <th>2</th>\n",
       "      <td>3</td>\n",
       "      <td>1</td>\n",
       "      <td>26.0</td>\n",
       "      <td>0</td>\n",
       "      <td>0</td>\n",
       "      <td>7.9250</td>\n",
       "      <td>1</td>\n",
       "      <td>0</td>\n",
       "      <td>0</td>\n",
       "      <td>0</td>\n",
       "      <td>1</td>\n",
       "      <td>1</td>\n",
       "      <td>0</td>\n",
       "      <td>0</td>\n",
       "      <td>0</td>\n",
       "      <td>1</td>\n",
       "    </tr>\n",
       "    <tr>\n",
       "      <th>3</th>\n",
       "      <td>4</td>\n",
       "      <td>1</td>\n",
       "      <td>35.0</td>\n",
       "      <td>1</td>\n",
       "      <td>0</td>\n",
       "      <td>53.1000</td>\n",
       "      <td>0</td>\n",
       "      <td>1</td>\n",
       "      <td>0</td>\n",
       "      <td>0</td>\n",
       "      <td>1</td>\n",
       "      <td>1</td>\n",
       "      <td>0</td>\n",
       "      <td>1</td>\n",
       "      <td>0</td>\n",
       "      <td>0</td>\n",
       "    </tr>\n",
       "    <tr>\n",
       "      <th>4</th>\n",
       "      <td>5</td>\n",
       "      <td>0</td>\n",
       "      <td>35.0</td>\n",
       "      <td>0</td>\n",
       "      <td>0</td>\n",
       "      <td>8.0500</td>\n",
       "      <td>1</td>\n",
       "      <td>0</td>\n",
       "      <td>0</td>\n",
       "      <td>0</td>\n",
       "      <td>1</td>\n",
       "      <td>0</td>\n",
       "      <td>1</td>\n",
       "      <td>0</td>\n",
       "      <td>0</td>\n",
       "      <td>1</td>\n",
       "    </tr>\n",
       "  </tbody>\n",
       "</table>\n",
       "</div>"
      ],
      "text/plain": [
       "   PassengerId  Survived   Age  SibSp  Parch     Fare  Cabin_No  Cabin_Yes  \\\n",
       "0            1         0  22.0      1      0   7.2500         1          0   \n",
       "1            2         1  38.0      1      0  71.2833         0          1   \n",
       "2            3         1  26.0      0      0   7.9250         1          0   \n",
       "3            4         1  35.0      1      0  53.1000         0          1   \n",
       "4            5         0  35.0      0      0   8.0500         1          0   \n",
       "\n",
       "   Embarked_C  Embarked_Q  Embarked_S  Sex_female  Sex_male  Pclass_1  \\\n",
       "0           0           0           1           0         1         0   \n",
       "1           1           0           0           1         0         1   \n",
       "2           0           0           1           1         0         0   \n",
       "3           0           0           1           1         0         1   \n",
       "4           0           0           1           0         1         0   \n",
       "\n",
       "   Pclass_2  Pclass_3  \n",
       "0         0         1  \n",
       "1         0         0  \n",
       "2         0         1  \n",
       "3         0         0  \n",
       "4         0         1  "
      ]
     },
     "execution_count": 18,
     "metadata": {},
     "output_type": "execute_result"
    }
   ],
   "source": [
    "#使用pandas的‘get_dummies’函数进行变量转换\n",
    "dummies_Cabin=pd.get_dummies(train_data['Cabin'],prefix='Cabin')\n",
    "dummies_Embarked = pd.get_dummies(train_data['Embarked'], prefix= 'Embarked')\n",
    "dummies_Sex = pd.get_dummies(train_data['Sex'], prefix= 'Sex')\n",
    "dummies_Pclass = pd.get_dummies(train_data['Pclass'], prefix= 'Pclass')\n",
    "\n",
    "df_dummies = pd.concat([train_data, dummies_Cabin, dummies_Embarked, dummies_Sex, dummies_Pclass], axis=1)\n",
    "#删除原始无用特征列\n",
    "df_dummies.drop(['Pclass', 'Name', 'Sex', 'Ticket', 'Cabin', 'Embarked'], axis=1, inplace=True)\n",
    "df_dummies.head()#print"
   ]
  },
  {
   "cell_type": "markdown",
   "metadata": {},
   "source": [
    "## 逻辑回归建模 "
   ]
  },
  {
   "cell_type": "code",
   "execution_count": 19,
   "metadata": {},
   "outputs": [
    {
     "data": {
      "text/plain": [
       "LogisticRegression(C=1.0, class_weight=None, dual=False, fit_intercept=True,\n",
       "          intercept_scaling=1, max_iter=100, multi_class='ovr', n_jobs=1,\n",
       "          penalty='l1', random_state=None, solver='liblinear', tol=1e-06,\n",
       "          verbose=0, warm_start=False)"
      ]
     },
     "execution_count": 19,
     "metadata": {},
     "output_type": "execute_result"
    }
   ],
   "source": [
    "#导入回归模型\n",
    "from sklearn import linear_model\n",
    "#用正则取出需要的属性值\n",
    "train_df=df_dummies.filter(regex='Survived|Age_.*|SibSp|Parch|Fare_.*|Cabin_.*|Embarked_.*|Sex_.*|Pclass_.*')\n",
    "#利用as_matrix函数进行矩阵转换\n",
    "train_np=train_df.as_matrix()\n",
    "\n",
    "# X即特征属性值\n",
    "X = train_np[:, 1:]\n",
    "\n",
    "#y即Survival结果\n",
    "y = train_np[:, 0]\n",
    "\n",
    "#建立逻辑斯蒂回归算法模型\n",
    "clf = linear_model.LogisticRegression(C=1.0, penalty='l1', tol=1e-6)\n",
    "\n",
    "##训练数据进行模型学习\n",
    "clf.fit(X,y)\n",
    "clf#print"
   ]
  },
  {
   "cell_type": "markdown",
   "metadata": {},
   "source": [
    "如上，顺利的得到了一个LogisticRegression模型，不过此时万里长征只行进了一半，接下来还需要对测试集做和'train_data'相同的预处理。"
   ]
  },
  {
   "cell_type": "markdown",
   "metadata": {},
   "source": [
    "### test_data数据处理"
   ]
  },
  {
   "cell_type": "code",
   "execution_count": 20,
   "metadata": {},
   "outputs": [
    {
     "name": "stdout",
     "output_type": "stream",
     "text": [
      "<class 'pandas.core.frame.DataFrame'>\n",
      "RangeIndex: 418 entries, 0 to 417\n",
      "Data columns (total 11 columns):\n",
      "PassengerId    418 non-null int64\n",
      "Pclass         418 non-null int64\n",
      "Name           418 non-null object\n",
      "Sex            418 non-null object\n",
      "Age            418 non-null float64\n",
      "SibSp          418 non-null int64\n",
      "Parch          418 non-null int64\n",
      "Ticket         418 non-null object\n",
      "Fare           418 non-null float64\n",
      "Cabin          418 non-null object\n",
      "Embarked       418 non-null object\n",
      "dtypes: float64(2), int64(4), object(5)\n",
      "memory usage: 36.0+ KB\n"
     ]
    }
   ],
   "source": [
    "#test数据中一个Fare变量是空值，用fillna()方法进行中位数填充\n",
    "test_data['Fare'].fillna(test_data['Fare'].median(),inplace=True)\n",
    "\n",
    "#与train_data数据相同，这里使用RandomForestRegressor对test_data数据的Age特征列缺失值进行预测\n",
    "age_df = test_data[['Age','Fare', 'Parch', 'SibSp', 'Pclass']]\n",
    "age_df_notnull = age_df.loc[(test_data['Age'].notnull())]\n",
    "age_df_isnull = age_df.loc[(test_data['Age'].isnull())]\n",
    "X = age_df_notnull.values[:,1:]\n",
    "Y = age_df_notnull.values[:,0]\n",
    "# 建立RandomForestRegression模型\n",
    "RFR = RandomForestRegressor(n_estimators=1000, n_jobs=-1)\n",
    "RFR.fit(X,Y)\n",
    "#对未知Age特征数据进行预测\n",
    "predictAges = RFR.predict(age_df_isnull.values[:,1:])\n",
    "test_data.loc[test_data['Age'].isnull(), ['Age']]= predictAges\n",
    "\n",
    "#使用自定义函数set_Cabin_type对test_data数据的Cabin进行相同处理\n",
    "test_data = set_Cabin_type(test_data)\n",
    "\n",
    "#进行缺失值处理之后检查test_data数据集\n",
    "test_data.info()"
   ]
  },
  {
   "cell_type": "markdown",
   "metadata": {},
   "source": [
    "可以看到，经过处理后test_data数据缺失值已经被处理完成了，接下来继续对test_data进行数值转换。"
   ]
  },
  {
   "cell_type": "code",
   "execution_count": 21,
   "metadata": {
    "scrolled": false
   },
   "outputs": [
    {
     "data": {
      "text/html": [
       "<div>\n",
       "<style>\n",
       "    .dataframe thead tr:only-child th {\n",
       "        text-align: right;\n",
       "    }\n",
       "\n",
       "    .dataframe thead th {\n",
       "        text-align: left;\n",
       "    }\n",
       "\n",
       "    .dataframe tbody tr th {\n",
       "        vertical-align: top;\n",
       "    }\n",
       "</style>\n",
       "<table border=\"1\" class=\"dataframe\">\n",
       "  <thead>\n",
       "    <tr style=\"text-align: right;\">\n",
       "      <th></th>\n",
       "      <th>PassengerId</th>\n",
       "      <th>Age</th>\n",
       "      <th>SibSp</th>\n",
       "      <th>Parch</th>\n",
       "      <th>Fare</th>\n",
       "      <th>Cabin_No</th>\n",
       "      <th>Cabin_Yes</th>\n",
       "      <th>Embarked_C</th>\n",
       "      <th>Embarked_Q</th>\n",
       "      <th>Embarked_S</th>\n",
       "      <th>Sex_female</th>\n",
       "      <th>Sex_male</th>\n",
       "      <th>Pclass_1</th>\n",
       "      <th>Pclass_2</th>\n",
       "      <th>Pclass_3</th>\n",
       "    </tr>\n",
       "  </thead>\n",
       "  <tbody>\n",
       "    <tr>\n",
       "      <th>0</th>\n",
       "      <td>892</td>\n",
       "      <td>34.5</td>\n",
       "      <td>0</td>\n",
       "      <td>0</td>\n",
       "      <td>7.8292</td>\n",
       "      <td>1</td>\n",
       "      <td>0</td>\n",
       "      <td>0</td>\n",
       "      <td>1</td>\n",
       "      <td>0</td>\n",
       "      <td>0</td>\n",
       "      <td>1</td>\n",
       "      <td>0</td>\n",
       "      <td>0</td>\n",
       "      <td>1</td>\n",
       "    </tr>\n",
       "    <tr>\n",
       "      <th>1</th>\n",
       "      <td>893</td>\n",
       "      <td>47.0</td>\n",
       "      <td>1</td>\n",
       "      <td>0</td>\n",
       "      <td>7.0000</td>\n",
       "      <td>1</td>\n",
       "      <td>0</td>\n",
       "      <td>0</td>\n",
       "      <td>0</td>\n",
       "      <td>1</td>\n",
       "      <td>1</td>\n",
       "      <td>0</td>\n",
       "      <td>0</td>\n",
       "      <td>0</td>\n",
       "      <td>1</td>\n",
       "    </tr>\n",
       "    <tr>\n",
       "      <th>2</th>\n",
       "      <td>894</td>\n",
       "      <td>62.0</td>\n",
       "      <td>0</td>\n",
       "      <td>0</td>\n",
       "      <td>9.6875</td>\n",
       "      <td>1</td>\n",
       "      <td>0</td>\n",
       "      <td>0</td>\n",
       "      <td>1</td>\n",
       "      <td>0</td>\n",
       "      <td>0</td>\n",
       "      <td>1</td>\n",
       "      <td>0</td>\n",
       "      <td>1</td>\n",
       "      <td>0</td>\n",
       "    </tr>\n",
       "    <tr>\n",
       "      <th>3</th>\n",
       "      <td>895</td>\n",
       "      <td>27.0</td>\n",
       "      <td>0</td>\n",
       "      <td>0</td>\n",
       "      <td>8.6625</td>\n",
       "      <td>1</td>\n",
       "      <td>0</td>\n",
       "      <td>0</td>\n",
       "      <td>0</td>\n",
       "      <td>1</td>\n",
       "      <td>0</td>\n",
       "      <td>1</td>\n",
       "      <td>0</td>\n",
       "      <td>0</td>\n",
       "      <td>1</td>\n",
       "    </tr>\n",
       "    <tr>\n",
       "      <th>4</th>\n",
       "      <td>896</td>\n",
       "      <td>22.0</td>\n",
       "      <td>1</td>\n",
       "      <td>1</td>\n",
       "      <td>12.2875</td>\n",
       "      <td>1</td>\n",
       "      <td>0</td>\n",
       "      <td>0</td>\n",
       "      <td>0</td>\n",
       "      <td>1</td>\n",
       "      <td>1</td>\n",
       "      <td>0</td>\n",
       "      <td>0</td>\n",
       "      <td>0</td>\n",
       "      <td>1</td>\n",
       "    </tr>\n",
       "  </tbody>\n",
       "</table>\n",
       "</div>"
      ],
      "text/plain": [
       "   PassengerId   Age  SibSp  Parch     Fare  Cabin_No  Cabin_Yes  Embarked_C  \\\n",
       "0          892  34.5      0      0   7.8292         1          0           0   \n",
       "1          893  47.0      1      0   7.0000         1          0           0   \n",
       "2          894  62.0      0      0   9.6875         1          0           0   \n",
       "3          895  27.0      0      0   8.6625         1          0           0   \n",
       "4          896  22.0      1      1  12.2875         1          0           0   \n",
       "\n",
       "   Embarked_Q  Embarked_S  Sex_female  Sex_male  Pclass_1  Pclass_2  Pclass_3  \n",
       "0           1           0           0         1         0         0         1  \n",
       "1           0           1           1         0         0         0         1  \n",
       "2           1           0           0         1         0         1         0  \n",
       "3           0           1           0         1         0         0         1  \n",
       "4           0           1           1         0         0         0         1  "
      ]
     },
     "execution_count": 21,
     "metadata": {},
     "output_type": "execute_result"
    }
   ],
   "source": [
    "#对test数据集做相同的变量转换\n",
    "dummies_Cabin = pd.get_dummies(test_data['Cabin'], prefix= 'Cabin')\n",
    "dummies_Embarked = pd.get_dummies(test_data['Embarked'], prefix= 'Embarked')\n",
    "dummies_Sex = pd.get_dummies(test_data['Sex'], prefix= 'Sex')\n",
    "dummies_Pclass = pd.get_dummies(test_data['Pclass'], prefix= 'Pclass')\n",
    "df_test = pd.concat([test_data, dummies_Cabin, dummies_Embarked, dummies_Sex, dummies_Pclass], axis=1)\n",
    "#利用drop函数删除原始无用特征列\n",
    "df_test.drop(['Pclass', 'Name', 'Sex', 'Ticket', 'Cabin', 'Embarked'], axis=1, inplace=True)\n",
    "df_test.head()"
   ]
  },
  {
   "cell_type": "markdown",
   "metadata": {},
   "source": [
    "数据看起来很OK，现在万事俱备，只差最后一步对test_data做预测得出结果了。"
   ]
  },
  {
   "cell_type": "markdown",
   "metadata": {},
   "source": [
    "### 结果预测 "
   ]
  },
  {
   "cell_type": "code",
   "execution_count": 22,
   "metadata": {},
   "outputs": [
    {
     "data": {
      "text/html": [
       "<div>\n",
       "<style>\n",
       "    .dataframe thead tr:only-child th {\n",
       "        text-align: right;\n",
       "    }\n",
       "\n",
       "    .dataframe thead th {\n",
       "        text-align: left;\n",
       "    }\n",
       "\n",
       "    .dataframe tbody tr th {\n",
       "        vertical-align: top;\n",
       "    }\n",
       "</style>\n",
       "<table border=\"1\" class=\"dataframe\">\n",
       "  <thead>\n",
       "    <tr style=\"text-align: right;\">\n",
       "      <th></th>\n",
       "      <th>PassengerId</th>\n",
       "      <th>Survived</th>\n",
       "    </tr>\n",
       "  </thead>\n",
       "  <tbody>\n",
       "    <tr>\n",
       "      <th>0</th>\n",
       "      <td>892</td>\n",
       "      <td>0</td>\n",
       "    </tr>\n",
       "    <tr>\n",
       "      <th>1</th>\n",
       "      <td>893</td>\n",
       "      <td>1</td>\n",
       "    </tr>\n",
       "    <tr>\n",
       "      <th>2</th>\n",
       "      <td>894</td>\n",
       "      <td>0</td>\n",
       "    </tr>\n",
       "    <tr>\n",
       "      <th>3</th>\n",
       "      <td>895</td>\n",
       "      <td>0</td>\n",
       "    </tr>\n",
       "    <tr>\n",
       "      <th>4</th>\n",
       "      <td>896</td>\n",
       "      <td>1</td>\n",
       "    </tr>\n",
       "  </tbody>\n",
       "</table>\n",
       "</div>"
      ],
      "text/plain": [
       "   PassengerId  Survived\n",
       "0          892         0\n",
       "1          893         1\n",
       "2          894         0\n",
       "3          895         0\n",
       "4          896         1"
      ]
     },
     "execution_count": 22,
     "metadata": {},
     "output_type": "execute_result"
    }
   ],
   "source": [
    "#用正则取出需要的测试集属性值\n",
    "test = df_test.filter(regex='Age_.*|SibSp|Parch|Fare_.*|Cabin_.*|Embarked_.*|Sex_.*|Pclass_.*')\n",
    "#使用模型对test进行预测\n",
    "predictions = clf.predict(test)\n",
    "#将结果生成为一个DataFrame\n",
    "result = pd.DataFrame({'PassengerId':test_data['PassengerId'].as_matrix(), 'Survived':predictions.astype(np.int32)})\n",
    "result.head()"
   ]
  },
  {
   "cell_type": "markdown",
   "metadata": {},
   "source": [
    "数据格式正确，导出数据并提交预测出的结果"
   ]
  },
  {
   "cell_type": "code",
   "execution_count": 23,
   "metadata": {
    "collapsed": true
   },
   "outputs": [],
   "source": [
    "#导出数据\n",
    "result.to_csv('Titanic/logistic_regression_predictions.csv')"
   ]
  },
  {
   "attachments": {
    "image.png": {
     "image/png": "[encoded data removed]"
    }
   },
   "cell_type": "markdown",
   "metadata": {},
   "source": [
    "![image.png](attachment:image.png)\n",
    "\n",
    "本次参加kaggle竞赛得分为0.76076，第一次参加比赛，分数有点不尽人意啊。"
   ]
  },
  {
   "cell_type": "markdown",
   "metadata": {},
   "source": [
    "## 分析总结 "
   ]
  },
  {
   "cell_type": "markdown",
   "metadata": {},
   "source": [
    "此项目使用pandas库对数据进行了整理和计算，使用matplotlib库的pyplot模块将数据可视化分析，并利用sklearn机器学习库对乘客信息进行建模预测，顺利的解决了在项目开始时提出的问题。但是不得不提的是，本次建模过程仅仅经过简单的分析处理，并没有对逻辑回归模型进行系统优化和交叉验证等，希望下次能够对建模过程更加严谨完善，争取得到更高的分数。"
   ]
  }
 ],
 "metadata": {
  "kernelspec": {
   "display_name": "Python 3",
   "language": "python",
   "name": "python3"
  },
  "language_info": {
   "codemirror_mode": {
    "name": "ipython",
    "version": 3
   },
   "file_extension": ".py",
   "mimetype": "text/x-python",
   "name": "python",
   "nbconvert_exporter": "python",
   "pygments_lexer": "ipython3",
   "version": "3.6.1"
  }
 },
 "nbformat": 4,
 "nbformat_minor": 2
}
